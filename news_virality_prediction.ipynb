{
  "nbformat": 4,
  "nbformat_minor": 0,
  "metadata": {
    "colab": {
      "name": "scrapy.ipynb",
      "provenance": [],
      "collapsed_sections": []
    },
    "kernelspec": {
      "name": "python3",
      "display_name": "Python 3"
    },
    "accelerator": "GPU"
  },
  "cells": [
    {
      "cell_type": "markdown",
      "metadata": {
        "id": "vSkqELFbnOsQ",
        "colab_type": "text"
      },
      "source": [
        "### Importing the Necessary libraries"
      ]
    },
    {
      "cell_type": "code",
      "metadata": {
        "id": "73XGtxx-XsFY",
        "colab_type": "code",
        "outputId": "9e157912-865c-4e35-a16e-4d217c9a7d97",
        "colab": {
          "base_uri": "https://localhost:8080/",
          "height": 177
        }
      },
      "source": [
        "import pandas as pd\n",
        "import numpy as np\n",
        "import seaborn as sns\n",
        "import matplotlib.pyplot as plt\n",
        "%matplotlib inline\n",
        "import warnings\n",
        "warnings.filterwarnings(\"ignore\")\n",
        "import string \n",
        "from collections import Counter\n",
        "!pip install nltk\n",
        "import nltk\n",
        "nltk.download('punkt')\n",
        "nltk.download('stopwords')\n",
        "nltk.download('vader_lexicon')\n",
        "from nltk.tokenize import word_tokenize\n",
        "from nltk.corpus import stopwords\n",
        "from nltk.sentiment.vader import SentimentIntensityAnalyzer"
      ],
      "execution_count": 1,
      "outputs": [
        {
          "output_type": "stream",
          "text": [
            "/usr/local/lib/python3.6/dist-packages/statsmodels/tools/_testing.py:19: FutureWarning: pandas.util.testing is deprecated. Use the functions in the public API at pandas.testing instead.\n",
            "  import pandas.util.testing as tm\n"
          ],
          "name": "stderr"
        },
        {
          "output_type": "stream",
          "text": [
            "Requirement already satisfied: nltk in /usr/local/lib/python3.6/dist-packages (3.2.5)\n",
            "Requirement already satisfied: six in /usr/local/lib/python3.6/dist-packages (from nltk) (1.12.0)\n",
            "[nltk_data] Downloading package punkt to /root/nltk_data...\n",
            "[nltk_data]   Unzipping tokenizers/punkt.zip.\n",
            "[nltk_data] Downloading package stopwords to /root/nltk_data...\n",
            "[nltk_data]   Unzipping corpora/stopwords.zip.\n",
            "[nltk_data] Downloading package vader_lexicon to /root/nltk_data...\n"
          ],
          "name": "stdout"
        }
      ]
    },
    {
      "cell_type": "markdown",
      "metadata": {
        "id": "JgtTEDcdnkRb",
        "colab_type": "text"
      },
      "source": [
        "###  Train -> UCI Machine Learning Repository \n",
        "###  Test -> Scraped News [THE HINDU (National)]\n",
        "\n"
      ]
    },
    {
      "cell_type": "code",
      "metadata": {
        "id": "Y7HbTXcAtSR8",
        "colab_type": "code",
        "colab": {}
      },
      "source": [
        "train = pd.read_csv('/content/drive/My Drive/News/OnlineNewsPopularity.csv')\n",
        "test = pd.read_csv('/content/drive/My Drive/News/news_scraped.csv')"
      ],
      "execution_count": 0,
      "outputs": []
    },
    {
      "cell_type": "code",
      "metadata": {
        "id": "1H931yhXtZ7n",
        "colab_type": "code",
        "outputId": "ddda0fd4-d030-4195-b2cc-6b940bb35612",
        "colab": {
          "base_uri": "https://localhost:8080/",
          "height": 194
        }
      },
      "source": [
        "test.head()"
      ],
      "execution_count": 3,
      "outputs": [
        {
          "output_type": "execute_result",
          "data": {
            "text/html": [
              "<div>\n",
              "<style scoped>\n",
              "    .dataframe tbody tr th:only-of-type {\n",
              "        vertical-align: middle;\n",
              "    }\n",
              "\n",
              "    .dataframe tbody tr th {\n",
              "        vertical-align: top;\n",
              "    }\n",
              "\n",
              "    .dataframe thead th {\n",
              "        text-align: right;\n",
              "    }\n",
              "</style>\n",
              "<table border=\"1\" class=\"dataframe\">\n",
              "  <thead>\n",
              "    <tr style=\"text-align: right;\">\n",
              "      <th></th>\n",
              "      <th>date_and_time</th>\n",
              "      <th>place</th>\n",
              "      <th>text</th>\n",
              "      <th>title</th>\n",
              "    </tr>\n",
              "  </thead>\n",
              "  <tbody>\n",
              "    <tr>\n",
              "      <th>0</th>\n",
              "      <td>April 26, 2020 13:41 IST</td>\n",
              "      <td>NaN</td>\n",
              "      <td>Families awaiting the remains of their loved o...</td>\n",
              "      <td>Coronavirus | Red tape stalls return of bodies...</td>\n",
              "    </tr>\n",
              "    <tr>\n",
              "      <th>1</th>\n",
              "      <td>April 26, 2020 16:59 IST</td>\n",
              "      <td>AHMEDABAD,</td>\n",
              "      <td>In a much-awaited large-scale reshuffle in the...</td>\n",
              "      <td>Centre effects major reshuffle of officials</td>\n",
              "    </tr>\n",
              "    <tr>\n",
              "      <th>2</th>\n",
              "      <td>April 26, 2020 17:10 IST</td>\n",
              "      <td>NEW DELHI ,</td>\n",
              "      <td>Ahead of Prime Minister Narendra Modi’s Monday...</td>\n",
              "      <td>Coronavirus lockdown | Set out holistic plan f...</td>\n",
              "    </tr>\n",
              "    <tr>\n",
              "      <th>3</th>\n",
              "      <td>April 26, 2020 15:05 IST</td>\n",
              "      <td>Mumbai ,</td>\n",
              "      <td>Maharashtra Home Minister Anil Deshmukh on Sun...</td>\n",
              "      <td>Panel probing Wadhawans' permit will submit re...</td>\n",
              "    </tr>\n",
              "    <tr>\n",
              "      <th>4</th>\n",
              "      <td>April 26, 2020 16:10 IST</td>\n",
              "      <td>New Delhi,</td>\n",
              "      <td>Prime Minister Narendra Modi will interact wit...</td>\n",
              "      <td>Coronavirus | PM Modi to interact with CMs on ...</td>\n",
              "    </tr>\n",
              "  </tbody>\n",
              "</table>\n",
              "</div>"
            ],
            "text/plain": [
              "              date_and_time  ...                                              title\n",
              "0  April 26, 2020 13:41 IST  ...  Coronavirus | Red tape stalls return of bodies...\n",
              "1  April 26, 2020 16:59 IST  ...        Centre effects major reshuffle of officials\n",
              "2  April 26, 2020 17:10 IST  ...  Coronavirus lockdown | Set out holistic plan f...\n",
              "3  April 26, 2020 15:05 IST  ...  Panel probing Wadhawans' permit will submit re...\n",
              "4  April 26, 2020 16:10 IST  ...  Coronavirus | PM Modi to interact with CMs on ...\n",
              "\n",
              "[5 rows x 4 columns]"
            ]
          },
          "metadata": {
            "tags": []
          },
          "execution_count": 3
        }
      ]
    },
    {
      "cell_type": "code",
      "metadata": {
        "id": "ya_61c7wtceY",
        "colab_type": "code",
        "colab": {
          "base_uri": "https://localhost:8080/",
          "height": 298
        },
        "outputId": "36e11b26-5714-41f1-b0b3-14e6870a6ea4"
      },
      "source": [
        "train.head()"
      ],
      "execution_count": 4,
      "outputs": [
        {
          "output_type": "execute_result",
          "data": {
            "text/html": [
              "<div>\n",
              "<style scoped>\n",
              "    .dataframe tbody tr th:only-of-type {\n",
              "        vertical-align: middle;\n",
              "    }\n",
              "\n",
              "    .dataframe tbody tr th {\n",
              "        vertical-align: top;\n",
              "    }\n",
              "\n",
              "    .dataframe thead th {\n",
              "        text-align: right;\n",
              "    }\n",
              "</style>\n",
              "<table border=\"1\" class=\"dataframe\">\n",
              "  <thead>\n",
              "    <tr style=\"text-align: right;\">\n",
              "      <th></th>\n",
              "      <th>url</th>\n",
              "      <th>timedelta</th>\n",
              "      <th>n_tokens_title</th>\n",
              "      <th>n_tokens_content</th>\n",
              "      <th>n_unique_tokens</th>\n",
              "      <th>n_non_stop_words</th>\n",
              "      <th>n_non_stop_unique_tokens</th>\n",
              "      <th>num_hrefs</th>\n",
              "      <th>num_self_hrefs</th>\n",
              "      <th>num_imgs</th>\n",
              "      <th>num_videos</th>\n",
              "      <th>average_token_length</th>\n",
              "      <th>num_keywords</th>\n",
              "      <th>data_channel_is_lifestyle</th>\n",
              "      <th>data_channel_is_entertainment</th>\n",
              "      <th>data_channel_is_bus</th>\n",
              "      <th>data_channel_is_socmed</th>\n",
              "      <th>data_channel_is_tech</th>\n",
              "      <th>data_channel_is_world</th>\n",
              "      <th>kw_min_min</th>\n",
              "      <th>kw_max_min</th>\n",
              "      <th>kw_avg_min</th>\n",
              "      <th>kw_min_max</th>\n",
              "      <th>kw_max_max</th>\n",
              "      <th>kw_avg_max</th>\n",
              "      <th>kw_min_avg</th>\n",
              "      <th>kw_max_avg</th>\n",
              "      <th>kw_avg_avg</th>\n",
              "      <th>self_reference_min_shares</th>\n",
              "      <th>self_reference_max_shares</th>\n",
              "      <th>self_reference_avg_sharess</th>\n",
              "      <th>weekday_is_monday</th>\n",
              "      <th>weekday_is_tuesday</th>\n",
              "      <th>weekday_is_wednesday</th>\n",
              "      <th>weekday_is_thursday</th>\n",
              "      <th>weekday_is_friday</th>\n",
              "      <th>weekday_is_saturday</th>\n",
              "      <th>weekday_is_sunday</th>\n",
              "      <th>is_weekend</th>\n",
              "      <th>LDA_00</th>\n",
              "      <th>LDA_01</th>\n",
              "      <th>LDA_02</th>\n",
              "      <th>LDA_03</th>\n",
              "      <th>LDA_04</th>\n",
              "      <th>global_subjectivity</th>\n",
              "      <th>global_sentiment_polarity</th>\n",
              "      <th>global_rate_positive_words</th>\n",
              "      <th>global_rate_negative_words</th>\n",
              "      <th>rate_positive_words</th>\n",
              "      <th>rate_negative_words</th>\n",
              "      <th>avg_positive_polarity</th>\n",
              "      <th>min_positive_polarity</th>\n",
              "      <th>max_positive_polarity</th>\n",
              "      <th>avg_negative_polarity</th>\n",
              "      <th>min_negative_polarity</th>\n",
              "      <th>max_negative_polarity</th>\n",
              "      <th>title_subjectivity</th>\n",
              "      <th>title_sentiment_polarity</th>\n",
              "      <th>abs_title_subjectivity</th>\n",
              "      <th>abs_title_sentiment_polarity</th>\n",
              "      <th>shares</th>\n",
              "    </tr>\n",
              "  </thead>\n",
              "  <tbody>\n",
              "    <tr>\n",
              "      <th>0</th>\n",
              "      <td>http://mashable.com/2013/01/07/amazon-instant-...</td>\n",
              "      <td>731.0</td>\n",
              "      <td>12.0</td>\n",
              "      <td>219.0</td>\n",
              "      <td>0.663594</td>\n",
              "      <td>1.0</td>\n",
              "      <td>0.815385</td>\n",
              "      <td>4.0</td>\n",
              "      <td>2.0</td>\n",
              "      <td>1.0</td>\n",
              "      <td>0.0</td>\n",
              "      <td>4.680365</td>\n",
              "      <td>5.0</td>\n",
              "      <td>0.0</td>\n",
              "      <td>1.0</td>\n",
              "      <td>0.0</td>\n",
              "      <td>0.0</td>\n",
              "      <td>0.0</td>\n",
              "      <td>0.0</td>\n",
              "      <td>0.0</td>\n",
              "      <td>0.0</td>\n",
              "      <td>0.0</td>\n",
              "      <td>0.0</td>\n",
              "      <td>0.0</td>\n",
              "      <td>0.0</td>\n",
              "      <td>0.0</td>\n",
              "      <td>0.0</td>\n",
              "      <td>0.0</td>\n",
              "      <td>496.0</td>\n",
              "      <td>496.0</td>\n",
              "      <td>496.000000</td>\n",
              "      <td>1.0</td>\n",
              "      <td>0.0</td>\n",
              "      <td>0.0</td>\n",
              "      <td>0.0</td>\n",
              "      <td>0.0</td>\n",
              "      <td>0.0</td>\n",
              "      <td>0.0</td>\n",
              "      <td>0.0</td>\n",
              "      <td>0.500331</td>\n",
              "      <td>0.378279</td>\n",
              "      <td>0.040005</td>\n",
              "      <td>0.041263</td>\n",
              "      <td>0.040123</td>\n",
              "      <td>0.521617</td>\n",
              "      <td>0.092562</td>\n",
              "      <td>0.045662</td>\n",
              "      <td>0.013699</td>\n",
              "      <td>0.769231</td>\n",
              "      <td>0.230769</td>\n",
              "      <td>0.378636</td>\n",
              "      <td>0.100000</td>\n",
              "      <td>0.7</td>\n",
              "      <td>-0.350000</td>\n",
              "      <td>-0.600</td>\n",
              "      <td>-0.200000</td>\n",
              "      <td>0.500000</td>\n",
              "      <td>-0.187500</td>\n",
              "      <td>0.000000</td>\n",
              "      <td>0.187500</td>\n",
              "      <td>593</td>\n",
              "    </tr>\n",
              "    <tr>\n",
              "      <th>1</th>\n",
              "      <td>http://mashable.com/2013/01/07/ap-samsung-spon...</td>\n",
              "      <td>731.0</td>\n",
              "      <td>9.0</td>\n",
              "      <td>255.0</td>\n",
              "      <td>0.604743</td>\n",
              "      <td>1.0</td>\n",
              "      <td>0.791946</td>\n",
              "      <td>3.0</td>\n",
              "      <td>1.0</td>\n",
              "      <td>1.0</td>\n",
              "      <td>0.0</td>\n",
              "      <td>4.913725</td>\n",
              "      <td>4.0</td>\n",
              "      <td>0.0</td>\n",
              "      <td>0.0</td>\n",
              "      <td>1.0</td>\n",
              "      <td>0.0</td>\n",
              "      <td>0.0</td>\n",
              "      <td>0.0</td>\n",
              "      <td>0.0</td>\n",
              "      <td>0.0</td>\n",
              "      <td>0.0</td>\n",
              "      <td>0.0</td>\n",
              "      <td>0.0</td>\n",
              "      <td>0.0</td>\n",
              "      <td>0.0</td>\n",
              "      <td>0.0</td>\n",
              "      <td>0.0</td>\n",
              "      <td>0.0</td>\n",
              "      <td>0.0</td>\n",
              "      <td>0.000000</td>\n",
              "      <td>1.0</td>\n",
              "      <td>0.0</td>\n",
              "      <td>0.0</td>\n",
              "      <td>0.0</td>\n",
              "      <td>0.0</td>\n",
              "      <td>0.0</td>\n",
              "      <td>0.0</td>\n",
              "      <td>0.0</td>\n",
              "      <td>0.799756</td>\n",
              "      <td>0.050047</td>\n",
              "      <td>0.050096</td>\n",
              "      <td>0.050101</td>\n",
              "      <td>0.050001</td>\n",
              "      <td>0.341246</td>\n",
              "      <td>0.148948</td>\n",
              "      <td>0.043137</td>\n",
              "      <td>0.015686</td>\n",
              "      <td>0.733333</td>\n",
              "      <td>0.266667</td>\n",
              "      <td>0.286915</td>\n",
              "      <td>0.033333</td>\n",
              "      <td>0.7</td>\n",
              "      <td>-0.118750</td>\n",
              "      <td>-0.125</td>\n",
              "      <td>-0.100000</td>\n",
              "      <td>0.000000</td>\n",
              "      <td>0.000000</td>\n",
              "      <td>0.500000</td>\n",
              "      <td>0.000000</td>\n",
              "      <td>711</td>\n",
              "    </tr>\n",
              "    <tr>\n",
              "      <th>2</th>\n",
              "      <td>http://mashable.com/2013/01/07/apple-40-billio...</td>\n",
              "      <td>731.0</td>\n",
              "      <td>9.0</td>\n",
              "      <td>211.0</td>\n",
              "      <td>0.575130</td>\n",
              "      <td>1.0</td>\n",
              "      <td>0.663866</td>\n",
              "      <td>3.0</td>\n",
              "      <td>1.0</td>\n",
              "      <td>1.0</td>\n",
              "      <td>0.0</td>\n",
              "      <td>4.393365</td>\n",
              "      <td>6.0</td>\n",
              "      <td>0.0</td>\n",
              "      <td>0.0</td>\n",
              "      <td>1.0</td>\n",
              "      <td>0.0</td>\n",
              "      <td>0.0</td>\n",
              "      <td>0.0</td>\n",
              "      <td>0.0</td>\n",
              "      <td>0.0</td>\n",
              "      <td>0.0</td>\n",
              "      <td>0.0</td>\n",
              "      <td>0.0</td>\n",
              "      <td>0.0</td>\n",
              "      <td>0.0</td>\n",
              "      <td>0.0</td>\n",
              "      <td>0.0</td>\n",
              "      <td>918.0</td>\n",
              "      <td>918.0</td>\n",
              "      <td>918.000000</td>\n",
              "      <td>1.0</td>\n",
              "      <td>0.0</td>\n",
              "      <td>0.0</td>\n",
              "      <td>0.0</td>\n",
              "      <td>0.0</td>\n",
              "      <td>0.0</td>\n",
              "      <td>0.0</td>\n",
              "      <td>0.0</td>\n",
              "      <td>0.217792</td>\n",
              "      <td>0.033334</td>\n",
              "      <td>0.033351</td>\n",
              "      <td>0.033334</td>\n",
              "      <td>0.682188</td>\n",
              "      <td>0.702222</td>\n",
              "      <td>0.323333</td>\n",
              "      <td>0.056872</td>\n",
              "      <td>0.009479</td>\n",
              "      <td>0.857143</td>\n",
              "      <td>0.142857</td>\n",
              "      <td>0.495833</td>\n",
              "      <td>0.100000</td>\n",
              "      <td>1.0</td>\n",
              "      <td>-0.466667</td>\n",
              "      <td>-0.800</td>\n",
              "      <td>-0.133333</td>\n",
              "      <td>0.000000</td>\n",
              "      <td>0.000000</td>\n",
              "      <td>0.500000</td>\n",
              "      <td>0.000000</td>\n",
              "      <td>1500</td>\n",
              "    </tr>\n",
              "    <tr>\n",
              "      <th>3</th>\n",
              "      <td>http://mashable.com/2013/01/07/astronaut-notre...</td>\n",
              "      <td>731.0</td>\n",
              "      <td>9.0</td>\n",
              "      <td>531.0</td>\n",
              "      <td>0.503788</td>\n",
              "      <td>1.0</td>\n",
              "      <td>0.665635</td>\n",
              "      <td>9.0</td>\n",
              "      <td>0.0</td>\n",
              "      <td>1.0</td>\n",
              "      <td>0.0</td>\n",
              "      <td>4.404896</td>\n",
              "      <td>7.0</td>\n",
              "      <td>0.0</td>\n",
              "      <td>1.0</td>\n",
              "      <td>0.0</td>\n",
              "      <td>0.0</td>\n",
              "      <td>0.0</td>\n",
              "      <td>0.0</td>\n",
              "      <td>0.0</td>\n",
              "      <td>0.0</td>\n",
              "      <td>0.0</td>\n",
              "      <td>0.0</td>\n",
              "      <td>0.0</td>\n",
              "      <td>0.0</td>\n",
              "      <td>0.0</td>\n",
              "      <td>0.0</td>\n",
              "      <td>0.0</td>\n",
              "      <td>0.0</td>\n",
              "      <td>0.0</td>\n",
              "      <td>0.000000</td>\n",
              "      <td>1.0</td>\n",
              "      <td>0.0</td>\n",
              "      <td>0.0</td>\n",
              "      <td>0.0</td>\n",
              "      <td>0.0</td>\n",
              "      <td>0.0</td>\n",
              "      <td>0.0</td>\n",
              "      <td>0.0</td>\n",
              "      <td>0.028573</td>\n",
              "      <td>0.419300</td>\n",
              "      <td>0.494651</td>\n",
              "      <td>0.028905</td>\n",
              "      <td>0.028572</td>\n",
              "      <td>0.429850</td>\n",
              "      <td>0.100705</td>\n",
              "      <td>0.041431</td>\n",
              "      <td>0.020716</td>\n",
              "      <td>0.666667</td>\n",
              "      <td>0.333333</td>\n",
              "      <td>0.385965</td>\n",
              "      <td>0.136364</td>\n",
              "      <td>0.8</td>\n",
              "      <td>-0.369697</td>\n",
              "      <td>-0.600</td>\n",
              "      <td>-0.166667</td>\n",
              "      <td>0.000000</td>\n",
              "      <td>0.000000</td>\n",
              "      <td>0.500000</td>\n",
              "      <td>0.000000</td>\n",
              "      <td>1200</td>\n",
              "    </tr>\n",
              "    <tr>\n",
              "      <th>4</th>\n",
              "      <td>http://mashable.com/2013/01/07/att-u-verse-apps/</td>\n",
              "      <td>731.0</td>\n",
              "      <td>13.0</td>\n",
              "      <td>1072.0</td>\n",
              "      <td>0.415646</td>\n",
              "      <td>1.0</td>\n",
              "      <td>0.540890</td>\n",
              "      <td>19.0</td>\n",
              "      <td>19.0</td>\n",
              "      <td>20.0</td>\n",
              "      <td>0.0</td>\n",
              "      <td>4.682836</td>\n",
              "      <td>7.0</td>\n",
              "      <td>0.0</td>\n",
              "      <td>0.0</td>\n",
              "      <td>0.0</td>\n",
              "      <td>0.0</td>\n",
              "      <td>1.0</td>\n",
              "      <td>0.0</td>\n",
              "      <td>0.0</td>\n",
              "      <td>0.0</td>\n",
              "      <td>0.0</td>\n",
              "      <td>0.0</td>\n",
              "      <td>0.0</td>\n",
              "      <td>0.0</td>\n",
              "      <td>0.0</td>\n",
              "      <td>0.0</td>\n",
              "      <td>0.0</td>\n",
              "      <td>545.0</td>\n",
              "      <td>16000.0</td>\n",
              "      <td>3151.157895</td>\n",
              "      <td>1.0</td>\n",
              "      <td>0.0</td>\n",
              "      <td>0.0</td>\n",
              "      <td>0.0</td>\n",
              "      <td>0.0</td>\n",
              "      <td>0.0</td>\n",
              "      <td>0.0</td>\n",
              "      <td>0.0</td>\n",
              "      <td>0.028633</td>\n",
              "      <td>0.028794</td>\n",
              "      <td>0.028575</td>\n",
              "      <td>0.028572</td>\n",
              "      <td>0.885427</td>\n",
              "      <td>0.513502</td>\n",
              "      <td>0.281003</td>\n",
              "      <td>0.074627</td>\n",
              "      <td>0.012127</td>\n",
              "      <td>0.860215</td>\n",
              "      <td>0.139785</td>\n",
              "      <td>0.411127</td>\n",
              "      <td>0.033333</td>\n",
              "      <td>1.0</td>\n",
              "      <td>-0.220192</td>\n",
              "      <td>-0.500</td>\n",
              "      <td>-0.050000</td>\n",
              "      <td>0.454545</td>\n",
              "      <td>0.136364</td>\n",
              "      <td>0.045455</td>\n",
              "      <td>0.136364</td>\n",
              "      <td>505</td>\n",
              "    </tr>\n",
              "  </tbody>\n",
              "</table>\n",
              "</div>"
            ],
            "text/plain": [
              "                                                 url  ...   shares\n",
              "0  http://mashable.com/2013/01/07/amazon-instant-...  ...      593\n",
              "1  http://mashable.com/2013/01/07/ap-samsung-spon...  ...      711\n",
              "2  http://mashable.com/2013/01/07/apple-40-billio...  ...     1500\n",
              "3  http://mashable.com/2013/01/07/astronaut-notre...  ...     1200\n",
              "4   http://mashable.com/2013/01/07/att-u-verse-apps/  ...      505\n",
              "\n",
              "[5 rows x 61 columns]"
            ]
          },
          "metadata": {
            "tags": []
          },
          "execution_count": 4
        }
      ]
    },
    {
      "cell_type": "code",
      "metadata": {
        "id": "tsuKnWCfyL8U",
        "colab_type": "code",
        "colab": {
          "base_uri": "https://localhost:8080/",
          "height": 106
        },
        "outputId": "76f7a103-b7cb-4e69-cce6-2be226a21c2c"
      },
      "source": [
        "test.dtypes"
      ],
      "execution_count": 5,
      "outputs": [
        {
          "output_type": "execute_result",
          "data": {
            "text/plain": [
              "date_and_time    object\n",
              "place            object\n",
              "text             object\n",
              "title            object\n",
              "dtype: object"
            ]
          },
          "metadata": {
            "tags": []
          },
          "execution_count": 5
        }
      ]
    },
    {
      "cell_type": "code",
      "metadata": {
        "id": "ZNFTvBpkyndv",
        "colab_type": "code",
        "colab": {
          "base_uri": "https://localhost:8080/",
          "height": 230
        },
        "outputId": "5e9eb211-6929-4d43-c262-e08855de4627"
      },
      "source": [
        "train.dtypes"
      ],
      "execution_count": 6,
      "outputs": [
        {
          "output_type": "execute_result",
          "data": {
            "text/plain": [
              "url                               object\n",
              " timedelta                       float64\n",
              " n_tokens_title                  float64\n",
              " n_tokens_content                float64\n",
              " n_unique_tokens                 float64\n",
              "                                  ...   \n",
              " title_subjectivity              float64\n",
              " title_sentiment_polarity        float64\n",
              " abs_title_subjectivity          float64\n",
              " abs_title_sentiment_polarity    float64\n",
              " shares                            int64\n",
              "Length: 61, dtype: object"
            ]
          },
          "metadata": {
            "tags": []
          },
          "execution_count": 6
        }
      ]
    },
    {
      "cell_type": "code",
      "metadata": {
        "id": "xPoL1ebNyo1z",
        "colab_type": "code",
        "colab": {
          "base_uri": "https://localhost:8080/",
          "height": 106
        },
        "outputId": "fedd8d0a-5d3f-45c9-967d-5f9591c7de4d"
      },
      "source": [
        "test.isnull().sum()"
      ],
      "execution_count": 7,
      "outputs": [
        {
          "output_type": "execute_result",
          "data": {
            "text/plain": [
              "date_and_time     0\n",
              "place            49\n",
              "text             73\n",
              "title            18\n",
              "dtype: int64"
            ]
          },
          "metadata": {
            "tags": []
          },
          "execution_count": 7
        }
      ]
    },
    {
      "cell_type": "markdown",
      "metadata": {
        "id": "S2c3-lALoZic",
        "colab_type": "text"
      },
      "source": [
        "Dropped rows with null values"
      ]
    },
    {
      "cell_type": "code",
      "metadata": {
        "id": "rhKR7-zAzKHn",
        "colab_type": "code",
        "colab": {}
      },
      "source": [
        "test.dropna(inplace = True)"
      ],
      "execution_count": 0,
      "outputs": []
    },
    {
      "cell_type": "markdown",
      "metadata": {
        "id": "hWZG99gEojd1",
        "colab_type": "text"
      },
      "source": [
        "### Making the Scraped News Dataset according to the UCI Dataset (For Prediction)\n",
        "\n"
      ]
    },
    {
      "cell_type": "code",
      "metadata": {
        "id": "Y4AKNXNG1cWE",
        "colab_type": "code",
        "colab": {}
      },
      "source": [
        "new_test = pd.DataFrame()"
      ],
      "execution_count": 0,
      "outputs": []
    },
    {
      "cell_type": "code",
      "metadata": {
        "id": "0P6t5ke21yCP",
        "colab_type": "code",
        "colab": {}
      },
      "source": [
        "new_test[' title'] = test.apply(lambda row: row[\"title\"].lower().translate(str.maketrans(\"\",\"\",string.punctuation)), axis = 1)\n",
        "new_test[' text'] = test.apply(lambda row: row[\"text\"].lower().translate(str.maketrans(\"\",\"\",string.punctuation)), axis = 1)"
      ],
      "execution_count": 0,
      "outputs": []
    },
    {
      "cell_type": "code",
      "metadata": {
        "id": "QtS-prJc6omN",
        "colab_type": "code",
        "colab": {}
      },
      "source": [
        "new_test[' token_title'] = new_test.apply(lambda row: word_tokenize(row[' title'],\"english\"),axis=1)\n",
        "new_test[' token_text'] = new_test.apply(lambda row: word_tokenize(row[' text'],\"english\"),axis=1)"
      ],
      "execution_count": 0,
      "outputs": []
    },
    {
      "cell_type": "code",
      "metadata": {
        "id": "PpXXJud4_a_Y",
        "colab_type": "code",
        "colab": {}
      },
      "source": [
        "new_test[' n_tokens_title'] = new_test.apply(lambda row: len(row[' token_title']),axis=1)\n",
        "new_test[' n_tokens_content'] = new_test.apply(lambda row: len(row[' token_text']),axis=1)"
      ],
      "execution_count": 0,
      "outputs": []
    },
    {
      "cell_type": "code",
      "metadata": {
        "id": "g8sHb5ysF0LU",
        "colab_type": "code",
        "colab": {}
      },
      "source": [
        "new_test[' n_unique_tokens'] = new_test.apply(lambda row: len(Counter(word_tokenize(row[' text'],\"english\"))) / row[' n_tokens_content'],axis=1)"
      ],
      "execution_count": 0,
      "outputs": []
    },
    {
      "cell_type": "code",
      "metadata": {
        "id": "o_iTQ7rXe4tW",
        "colab_type": "code",
        "colab": {}
      },
      "source": [
        "def remove_stopwords(tokenized_words):\n",
        "  final_words = []\n",
        "  for word in tokenized_words: \n",
        "\t  if word not in stopwords.words('english'):\n",
        "\t\t  final_words.append(word)\n",
        "  return final_words"
      ],
      "execution_count": 0,
      "outputs": []
    },
    {
      "cell_type": "code",
      "metadata": {
        "id": "lfvYlFMUpi5C",
        "colab_type": "code",
        "colab": {}
      },
      "source": [
        "new_test[' stopword_removed_content'] = new_test.apply(lambda row: 0 ,axis=1)\n",
        "for i in new_test.index:\n",
        "  final = remove_stopwords(new_test[' token_text'][i])\n",
        "  new_test[' stopword_removed_content'][i] = final "
      ],
      "execution_count": 0,
      "outputs": []
    },
    {
      "cell_type": "code",
      "metadata": {
        "id": "slgHw9iisAOd",
        "colab_type": "code",
        "colab": {}
      },
      "source": [
        "new_test[' n_non_stop_words'] = new_test.apply(lambda row: len(row[' stopword_removed_content']) / row[' n_tokens_content'] , axis = 1)"
      ],
      "execution_count": 0,
      "outputs": []
    },
    {
      "cell_type": "code",
      "metadata": {
        "id": "T7Wf4yvIulcM",
        "colab_type": "code",
        "colab": {}
      },
      "source": [
        "new_test[' n_non_stop_unique_tokens'] = new_test.apply(lambda row: len(Counter(row[' stopword_removed_content'])) / row[' n_tokens_content'] ,axis=1)"
      ],
      "execution_count": 0,
      "outputs": []
    },
    {
      "cell_type": "code",
      "metadata": {
        "id": "e2XwYM4VfYsu",
        "colab_type": "code",
        "colab": {}
      },
      "source": [
        "import datetime \n",
        "new_test[' date'] = [d.date()  for d in pd.to_datetime(test['date_and_time'])]\n",
        "new_test[' weekday_is_monday'] = new_test.apply(lambda row: 0 ,axis=1)\n",
        "new_test[' weekday_is_tuesday'] = new_test.apply(lambda row: 0 ,axis=1)\n",
        "new_test[' weekday_is_wednesday'] = new_test.apply(lambda row: 0 ,axis=1)\n",
        "new_test[' weekday_is_thursday'] = new_test.apply(lambda row: 0 ,axis=1)\n",
        "new_test[' weekday_is_friday'] = new_test.apply(lambda row: 0 ,axis=1)\n",
        "new_test[' weekday_is_saturday'] = new_test.apply(lambda row: 0 ,axis=1)\n",
        "new_test[' weekday_is_sunday'] = new_test.apply(lambda row: 0 ,axis=1)\n",
        "new_test[' is_weekend'] = new_test.apply(lambda row: 0 ,axis=1)\n",
        "day_name= ['Monday', 'Tuesday', 'Wednesday', 'Thursday', 'Friday', 'Saturday','Sunday']\n",
        "for i in new_test.index:\n",
        "  day = datetime.datetime.strptime(str(new_test[' date'][i]), '%Y-%m-%d').weekday()\n",
        "  #print(day_name[day]) \n",
        "  if day_name[day] == 'Monday':\n",
        "    new_test[' weekday_is_monday'][i] = 1\n",
        "  elif day_name[day] == 'Tuesday':\n",
        "    new_test[' weekday_is_tuesday'][i] = 1\n",
        "  elif day_name[day] == 'Wednesday':\n",
        "    new_test[' weekday_is_wednesday'][i] = 1\n",
        "  elif day_name[day] == 'Thursday':\n",
        "    new_test[' weekday_is_thursday'][i] = 1\n",
        "  elif day_name[day] == 'Friday':\n",
        "    new_test[' weekday_is_friday'][i] = 1\n",
        "  elif day_name[day] == 'Saturday':\n",
        "    new_test[' weekday_is_saturday'][i] = 1\n",
        "    new_test[' is_weekend'][i] = 1\n",
        "  elif day_name[day] == 'Sunday':\n",
        "    new_test[' weekday_is_sunday'][i] = 1\n",
        "    new_test[' is_weekend'][i] = 1"
      ],
      "execution_count": 0,
      "outputs": []
    },
    {
      "cell_type": "code",
      "metadata": {
        "id": "240Mcu94zmrG",
        "colab_type": "code",
        "colab": {}
      },
      "source": [
        "new_test[' avg_positive_polarity'] = new_test.apply(lambda row: 0.0 ,axis=1)\n",
        "new_test[' avg_negative_polarity'] = new_test.apply(lambda row: 0.0 ,axis=1)\n",
        "new_test[' title_sentiment_polarity'] = new_test.apply(lambda row: 0.0 ,axis=1)"
      ],
      "execution_count": 0,
      "outputs": []
    },
    {
      "cell_type": "code",
      "metadata": {
        "id": "yM58vpr9rRQ-",
        "colab_type": "code",
        "colab": {}
      },
      "source": [
        "def sentiment_analyse(sentiment_text,index):\n",
        "  score = SentimentIntensityAnalyzer().polarity_scores(sentiment_text)\n",
        "  new_test[' avg_positive_polarity'][index] = score['pos']\n",
        "  new_test[' avg_negative_polarity'][index] = score['neg']"
      ],
      "execution_count": 0,
      "outputs": []
    },
    {
      "cell_type": "code",
      "metadata": {
        "id": "uLYq-KRHxGod",
        "colab_type": "code",
        "colab": {}
      },
      "source": [
        "for i in new_test.index:\n",
        "  sentiment_analyse(new_test[' text'][i] , i)"
      ],
      "execution_count": 0,
      "outputs": []
    },
    {
      "cell_type": "code",
      "metadata": {
        "id": "NwkO26Dxy9Zf",
        "colab_type": "code",
        "colab": {}
      },
      "source": [
        "def title_polarity(sentiment_title,index):\n",
        "  score = SentimentIntensityAnalyzer().polarity_scores(sentiment_title)\n",
        "  new_test[' title_sentiment_polarity'][index] = score['compound']"
      ],
      "execution_count": 0,
      "outputs": []
    },
    {
      "cell_type": "code",
      "metadata": {
        "id": "Bf6Q4GJOeYsV",
        "colab_type": "code",
        "colab": {}
      },
      "source": [
        "for i in new_test.index:\n",
        "  title_polarity(new_test[' title'][i],i)"
      ],
      "execution_count": 0,
      "outputs": []
    },
    {
      "cell_type": "code",
      "metadata": {
        "id": "dzt-hVmUtZ6J",
        "colab_type": "code",
        "colab": {
          "base_uri": "https://localhost:8080/",
          "height": 585
        },
        "outputId": "36c4269b-fe60-45ce-9981-f7b7808f5115"
      },
      "source": [
        "new_test.head()"
      ],
      "execution_count": 55,
      "outputs": [
        {
          "output_type": "execute_result",
          "data": {
            "text/html": [
              "<div>\n",
              "<style scoped>\n",
              "    .dataframe tbody tr th:only-of-type {\n",
              "        vertical-align: middle;\n",
              "    }\n",
              "\n",
              "    .dataframe tbody tr th {\n",
              "        vertical-align: top;\n",
              "    }\n",
              "\n",
              "    .dataframe thead th {\n",
              "        text-align: right;\n",
              "    }\n",
              "</style>\n",
              "<table border=\"1\" class=\"dataframe\">\n",
              "  <thead>\n",
              "    <tr style=\"text-align: right;\">\n",
              "      <th></th>\n",
              "      <th>title</th>\n",
              "      <th>text</th>\n",
              "      <th>token_title</th>\n",
              "      <th>token_text</th>\n",
              "      <th>n_tokens_title</th>\n",
              "      <th>n_tokens_content</th>\n",
              "      <th>n_unique_tokens</th>\n",
              "      <th>stopword_removed_content</th>\n",
              "      <th>n_non_stop_words</th>\n",
              "      <th>n_non_stop_unique_tokens</th>\n",
              "      <th>date</th>\n",
              "      <th>weekday_is_monday</th>\n",
              "      <th>weekday_is_tuesday</th>\n",
              "      <th>weekday_is_wednesday</th>\n",
              "      <th>weekday_is_thursday</th>\n",
              "      <th>weekday_is_friday</th>\n",
              "      <th>weekday_is_saturday</th>\n",
              "      <th>weekday_is_sunday</th>\n",
              "      <th>is_weekend</th>\n",
              "      <th>avg_positive_polarity</th>\n",
              "      <th>avg_negative_polarity</th>\n",
              "      <th>title_sentiment_polarity</th>\n",
              "    </tr>\n",
              "  </thead>\n",
              "  <tbody>\n",
              "    <tr>\n",
              "      <th>1</th>\n",
              "      <td>centre effects major reshuffle of officials</td>\n",
              "      <td>in a muchawaited largescale reshuffle in the c...</td>\n",
              "      <td>[centre, effects, major, reshuffle, of, offici...</td>\n",
              "      <td>[in, a, muchawaited, largescale, reshuffle, in...</td>\n",
              "      <td>6</td>\n",
              "      <td>559</td>\n",
              "      <td>0.488372</td>\n",
              "      <td>[muchawaited, largescale, reshuffle, central, ...</td>\n",
              "      <td>0.584973</td>\n",
              "      <td>0.406082</td>\n",
              "      <td>2020-04-26</td>\n",
              "      <td>0</td>\n",
              "      <td>0</td>\n",
              "      <td>0</td>\n",
              "      <td>0</td>\n",
              "      <td>0</td>\n",
              "      <td>0</td>\n",
              "      <td>1</td>\n",
              "      <td>1</td>\n",
              "      <td>0.063</td>\n",
              "      <td>0.003</td>\n",
              "      <td>0.0000</td>\n",
              "    </tr>\n",
              "    <tr>\n",
              "      <th>2</th>\n",
              "      <td>coronavirus lockdown  set out holistic plan fo...</td>\n",
              "      <td>ahead of prime minister narendra modi’s monday...</td>\n",
              "      <td>[coronavirus, lockdown, set, out, holistic, pl...</td>\n",
              "      <td>[ahead, of, prime, minister, narendra, modi, ’...</td>\n",
              "      <td>12</td>\n",
              "      <td>330</td>\n",
              "      <td>0.563636</td>\n",
              "      <td>[ahead, prime, minister, narendra, modi, ’, mo...</td>\n",
              "      <td>0.612121</td>\n",
              "      <td>0.445455</td>\n",
              "      <td>2020-04-26</td>\n",
              "      <td>0</td>\n",
              "      <td>0</td>\n",
              "      <td>0</td>\n",
              "      <td>0</td>\n",
              "      <td>0</td>\n",
              "      <td>0</td>\n",
              "      <td>1</td>\n",
              "      <td>1</td>\n",
              "      <td>0.068</td>\n",
              "      <td>0.078</td>\n",
              "      <td>0.0000</td>\n",
              "    </tr>\n",
              "    <tr>\n",
              "      <th>3</th>\n",
              "      <td>panel probing wadhawans permit will submit rep...</td>\n",
              "      <td>maharashtra home minister anil deshmukh on sun...</td>\n",
              "      <td>[panel, probing, wadhawans, permit, will, subm...</td>\n",
              "      <td>[maharashtra, home, minister, anil, deshmukh, ...</td>\n",
              "      <td>14</td>\n",
              "      <td>256</td>\n",
              "      <td>0.660156</td>\n",
              "      <td>[maharashtra, home, minister, anil, deshmukh, ...</td>\n",
              "      <td>0.648438</td>\n",
              "      <td>0.519531</td>\n",
              "      <td>2020-04-26</td>\n",
              "      <td>0</td>\n",
              "      <td>0</td>\n",
              "      <td>0</td>\n",
              "      <td>0</td>\n",
              "      <td>0</td>\n",
              "      <td>0</td>\n",
              "      <td>1</td>\n",
              "      <td>1</td>\n",
              "      <td>0.047</td>\n",
              "      <td>0.077</td>\n",
              "      <td>0.0000</td>\n",
              "    </tr>\n",
              "    <tr>\n",
              "      <th>4</th>\n",
              "      <td>coronavirus  pm modi to interact with cms on m...</td>\n",
              "      <td>prime minister narendra modi will interact wit...</td>\n",
              "      <td>[coronavirus, pm, modi, to, interact, with, cm...</td>\n",
              "      <td>[prime, minister, narendra, modi, will, intera...</td>\n",
              "      <td>15</td>\n",
              "      <td>484</td>\n",
              "      <td>0.528926</td>\n",
              "      <td>[prime, minister, narendra, modi, interact, ch...</td>\n",
              "      <td>0.607438</td>\n",
              "      <td>0.431818</td>\n",
              "      <td>2020-04-26</td>\n",
              "      <td>0</td>\n",
              "      <td>0</td>\n",
              "      <td>0</td>\n",
              "      <td>0</td>\n",
              "      <td>0</td>\n",
              "      <td>0</td>\n",
              "      <td>1</td>\n",
              "      <td>1</td>\n",
              "      <td>0.067</td>\n",
              "      <td>0.032</td>\n",
              "      <td>0.0000</td>\n",
              "    </tr>\n",
              "    <tr>\n",
              "      <th>6</th>\n",
              "      <td>around 300 terrorists waiting in pok for intru...</td>\n",
              "      <td>with around 300 terrorists reported to be wait...</td>\n",
              "      <td>[around, 300, terrorists, waiting, in, pok, fo...</td>\n",
              "      <td>[with, around, 300, terrorists, reported, to, ...</td>\n",
              "      <td>12</td>\n",
              "      <td>489</td>\n",
              "      <td>0.537832</td>\n",
              "      <td>[around, 300, terrorists, reported, waiting, a...</td>\n",
              "      <td>0.605317</td>\n",
              "      <td>0.439673</td>\n",
              "      <td>2020-04-26</td>\n",
              "      <td>0</td>\n",
              "      <td>0</td>\n",
              "      <td>0</td>\n",
              "      <td>0</td>\n",
              "      <td>0</td>\n",
              "      <td>0</td>\n",
              "      <td>1</td>\n",
              "      <td>1</td>\n",
              "      <td>0.070</td>\n",
              "      <td>0.144</td>\n",
              "      <td>-0.6249</td>\n",
              "    </tr>\n",
              "  </tbody>\n",
              "</table>\n",
              "</div>"
            ],
            "text/plain": [
              "                                               title  ...  title_sentiment_polarity\n",
              "1        centre effects major reshuffle of officials  ...                    0.0000\n",
              "2  coronavirus lockdown  set out holistic plan fo...  ...                    0.0000\n",
              "3  panel probing wadhawans permit will submit rep...  ...                    0.0000\n",
              "4  coronavirus  pm modi to interact with cms on m...  ...                    0.0000\n",
              "6  around 300 terrorists waiting in pok for intru...  ...                   -0.6249\n",
              "\n",
              "[5 rows x 22 columns]"
            ]
          },
          "metadata": {
            "tags": []
          },
          "execution_count": 55
        }
      ]
    },
    {
      "cell_type": "code",
      "metadata": {
        "id": "7KnH5IMJehUX",
        "colab_type": "code",
        "colab": {
          "base_uri": "https://localhost:8080/",
          "height": 426
        },
        "outputId": "841cea2d-a22c-4395-dfe6-53159c1de393"
      },
      "source": [
        "train.columns"
      ],
      "execution_count": 25,
      "outputs": [
        {
          "output_type": "execute_result",
          "data": {
            "text/plain": [
              "Index(['url', ' timedelta', ' n_tokens_title', ' n_tokens_content',\n",
              "       ' n_unique_tokens', ' n_non_stop_words', ' n_non_stop_unique_tokens',\n",
              "       ' num_hrefs', ' num_self_hrefs', ' num_imgs', ' num_videos',\n",
              "       ' average_token_length', ' num_keywords', ' data_channel_is_lifestyle',\n",
              "       ' data_channel_is_entertainment', ' data_channel_is_bus',\n",
              "       ' data_channel_is_socmed', ' data_channel_is_tech',\n",
              "       ' data_channel_is_world', ' kw_min_min', ' kw_max_min', ' kw_avg_min',\n",
              "       ' kw_min_max', ' kw_max_max', ' kw_avg_max', ' kw_min_avg',\n",
              "       ' kw_max_avg', ' kw_avg_avg', ' self_reference_min_shares',\n",
              "       ' self_reference_max_shares', ' self_reference_avg_sharess',\n",
              "       ' weekday_is_monday', ' weekday_is_tuesday', ' weekday_is_wednesday',\n",
              "       ' weekday_is_thursday', ' weekday_is_friday', ' weekday_is_saturday',\n",
              "       ' weekday_is_sunday', ' is_weekend', ' LDA_00', ' LDA_01', ' LDA_02',\n",
              "       ' LDA_03', ' LDA_04', ' global_subjectivity',\n",
              "       ' global_sentiment_polarity', ' global_rate_positive_words',\n",
              "       ' global_rate_negative_words', ' rate_positive_words',\n",
              "       ' rate_negative_words', ' avg_positive_polarity',\n",
              "       ' min_positive_polarity', ' max_positive_polarity',\n",
              "       ' avg_negative_polarity', ' min_negative_polarity',\n",
              "       ' max_negative_polarity', ' title_subjectivity',\n",
              "       ' title_sentiment_polarity', ' abs_title_subjectivity',\n",
              "       ' abs_title_sentiment_polarity', ' shares'],\n",
              "      dtype='object')"
            ]
          },
          "metadata": {
            "tags": []
          },
          "execution_count": 25
        }
      ]
    },
    {
      "cell_type": "markdown",
      "metadata": {
        "id": "gbcZH3MGo97N",
        "colab_type": "text"
      },
      "source": [
        "Dropping columns which could not be generated from the Scraped News Dataset"
      ]
    },
    {
      "cell_type": "code",
      "metadata": {
        "id": "BO7acdihi2rD",
        "colab_type": "code",
        "colab": {}
      },
      "source": [
        "x = train.drop(columns = ['url',' timedelta',' num_hrefs',' num_self_hrefs',' num_imgs',' num_videos',' average_token_length',' num_keywords',\n",
        "            ' data_channel_is_lifestyle',' data_channel_is_entertainment',' data_channel_is_bus',' data_channel_is_socmed',\n",
        "            ' data_channel_is_tech',' data_channel_is_world',' kw_min_min',' kw_max_min',' kw_avg_min',' kw_min_max',' kw_max_max',\n",
        "            ' kw_avg_max',' kw_min_avg',' kw_max_avg',' kw_avg_avg',' self_reference_min_shares',' self_reference_max_shares',\n",
        "            ' self_reference_avg_sharess',' LDA_00',' LDA_01',' LDA_02',' LDA_03',' LDA_04',' global_subjectivity',' global_sentiment_polarity',\n",
        "            ' global_rate_positive_words',' global_rate_negative_words',' rate_positive_words',' rate_negative_words',' min_positive_polarity',\n",
        "            ' max_positive_polarity',' min_negative_polarity',' max_negative_polarity',' title_subjectivity',' abs_title_subjectivity',\n",
        "            ' abs_title_sentiment_polarity',' shares'],axis=1)\n",
        "y = train[' shares']"
      ],
      "execution_count": 0,
      "outputs": []
    },
    {
      "cell_type": "code",
      "metadata": {
        "id": "ob44c2Vcqv5C",
        "colab_type": "code",
        "colab": {
          "base_uri": "https://localhost:8080/",
          "height": 141
        },
        "outputId": "79af6cad-e772-4ded-c381-61d14143e28a"
      },
      "source": [
        "x.columns"
      ],
      "execution_count": 28,
      "outputs": [
        {
          "output_type": "execute_result",
          "data": {
            "text/plain": [
              "Index([' n_tokens_title', ' n_tokens_content', ' n_unique_tokens',\n",
              "       ' n_non_stop_words', ' n_non_stop_unique_tokens', ' weekday_is_monday',\n",
              "       ' weekday_is_tuesday', ' weekday_is_wednesday', ' weekday_is_thursday',\n",
              "       ' weekday_is_friday', ' weekday_is_saturday', ' weekday_is_sunday',\n",
              "       ' is_weekend', ' avg_positive_polarity', ' avg_negative_polarity',\n",
              "       ' title_sentiment_polarity'],\n",
              "      dtype='object')"
            ]
          },
          "metadata": {
            "tags": []
          },
          "execution_count": 28
        }
      ]
    },
    {
      "cell_type": "code",
      "metadata": {
        "id": "Cv6pfwOegNr0",
        "colab_type": "code",
        "colab": {
          "base_uri": "https://localhost:8080/",
          "height": 159
        },
        "outputId": "6a6ac1fc-737c-4f8d-f9fe-1c2f36c16455"
      },
      "source": [
        "new_test.columns"
      ],
      "execution_count": 29,
      "outputs": [
        {
          "output_type": "execute_result",
          "data": {
            "text/plain": [
              "Index([' title', ' text', ' token_title', ' token_text', ' n_tokens_title',\n",
              "       ' n_tokens_content', ' n_unique_tokens', ' stopword_removed_content',\n",
              "       ' n_non_stop_words', ' n_non_stop_unique_tokens', ' date',\n",
              "       ' weekday_is_monday', ' weekday_is_tuesday', ' weekday_is_wednesday',\n",
              "       ' weekday_is_thursday', ' weekday_is_friday', ' weekday_is_saturday',\n",
              "       ' weekday_is_sunday', ' is_weekend', ' avg_positive_polarity',\n",
              "       ' avg_negative_polarity', ' title_sentiment_polarity'],\n",
              "      dtype='object')"
            ]
          },
          "metadata": {
            "tags": []
          },
          "execution_count": 29
        }
      ]
    },
    {
      "cell_type": "code",
      "metadata": {
        "id": "RDZgi0C_gUVz",
        "colab_type": "code",
        "colab": {}
      },
      "source": [
        "x_test = new_test.drop([' title',' text',' token_title',' token_text',' stopword_removed_content',' date'],axis=1)"
      ],
      "execution_count": 0,
      "outputs": []
    },
    {
      "cell_type": "code",
      "metadata": {
        "id": "D-LJ-HGp0Y_w",
        "colab_type": "code",
        "colab": {
          "base_uri": "https://localhost:8080/",
          "height": 214
        },
        "outputId": "b028f698-9a9e-4430-fe42-7bce9301566f"
      },
      "source": [
        "x_test.head()"
      ],
      "execution_count": 31,
      "outputs": [
        {
          "output_type": "execute_result",
          "data": {
            "text/html": [
              "<div>\n",
              "<style scoped>\n",
              "    .dataframe tbody tr th:only-of-type {\n",
              "        vertical-align: middle;\n",
              "    }\n",
              "\n",
              "    .dataframe tbody tr th {\n",
              "        vertical-align: top;\n",
              "    }\n",
              "\n",
              "    .dataframe thead th {\n",
              "        text-align: right;\n",
              "    }\n",
              "</style>\n",
              "<table border=\"1\" class=\"dataframe\">\n",
              "  <thead>\n",
              "    <tr style=\"text-align: right;\">\n",
              "      <th></th>\n",
              "      <th>n_tokens_title</th>\n",
              "      <th>n_tokens_content</th>\n",
              "      <th>n_unique_tokens</th>\n",
              "      <th>n_non_stop_words</th>\n",
              "      <th>n_non_stop_unique_tokens</th>\n",
              "      <th>weekday_is_monday</th>\n",
              "      <th>weekday_is_tuesday</th>\n",
              "      <th>weekday_is_wednesday</th>\n",
              "      <th>weekday_is_thursday</th>\n",
              "      <th>weekday_is_friday</th>\n",
              "      <th>weekday_is_saturday</th>\n",
              "      <th>weekday_is_sunday</th>\n",
              "      <th>is_weekend</th>\n",
              "      <th>avg_positive_polarity</th>\n",
              "      <th>avg_negative_polarity</th>\n",
              "      <th>title_sentiment_polarity</th>\n",
              "    </tr>\n",
              "  </thead>\n",
              "  <tbody>\n",
              "    <tr>\n",
              "      <th>1</th>\n",
              "      <td>6</td>\n",
              "      <td>559</td>\n",
              "      <td>0.488372</td>\n",
              "      <td>0.584973</td>\n",
              "      <td>0.406082</td>\n",
              "      <td>0</td>\n",
              "      <td>0</td>\n",
              "      <td>0</td>\n",
              "      <td>0</td>\n",
              "      <td>0</td>\n",
              "      <td>0</td>\n",
              "      <td>1</td>\n",
              "      <td>1</td>\n",
              "      <td>0.063</td>\n",
              "      <td>0.003</td>\n",
              "      <td>0.0000</td>\n",
              "    </tr>\n",
              "    <tr>\n",
              "      <th>2</th>\n",
              "      <td>12</td>\n",
              "      <td>330</td>\n",
              "      <td>0.563636</td>\n",
              "      <td>0.612121</td>\n",
              "      <td>0.445455</td>\n",
              "      <td>0</td>\n",
              "      <td>0</td>\n",
              "      <td>0</td>\n",
              "      <td>0</td>\n",
              "      <td>0</td>\n",
              "      <td>0</td>\n",
              "      <td>1</td>\n",
              "      <td>1</td>\n",
              "      <td>0.068</td>\n",
              "      <td>0.078</td>\n",
              "      <td>0.0000</td>\n",
              "    </tr>\n",
              "    <tr>\n",
              "      <th>3</th>\n",
              "      <td>14</td>\n",
              "      <td>256</td>\n",
              "      <td>0.660156</td>\n",
              "      <td>0.648438</td>\n",
              "      <td>0.519531</td>\n",
              "      <td>0</td>\n",
              "      <td>0</td>\n",
              "      <td>0</td>\n",
              "      <td>0</td>\n",
              "      <td>0</td>\n",
              "      <td>0</td>\n",
              "      <td>1</td>\n",
              "      <td>1</td>\n",
              "      <td>0.047</td>\n",
              "      <td>0.077</td>\n",
              "      <td>0.0000</td>\n",
              "    </tr>\n",
              "    <tr>\n",
              "      <th>4</th>\n",
              "      <td>15</td>\n",
              "      <td>484</td>\n",
              "      <td>0.528926</td>\n",
              "      <td>0.607438</td>\n",
              "      <td>0.431818</td>\n",
              "      <td>0</td>\n",
              "      <td>0</td>\n",
              "      <td>0</td>\n",
              "      <td>0</td>\n",
              "      <td>0</td>\n",
              "      <td>0</td>\n",
              "      <td>1</td>\n",
              "      <td>1</td>\n",
              "      <td>0.067</td>\n",
              "      <td>0.032</td>\n",
              "      <td>0.0000</td>\n",
              "    </tr>\n",
              "    <tr>\n",
              "      <th>6</th>\n",
              "      <td>12</td>\n",
              "      <td>489</td>\n",
              "      <td>0.537832</td>\n",
              "      <td>0.605317</td>\n",
              "      <td>0.439673</td>\n",
              "      <td>0</td>\n",
              "      <td>0</td>\n",
              "      <td>0</td>\n",
              "      <td>0</td>\n",
              "      <td>0</td>\n",
              "      <td>0</td>\n",
              "      <td>1</td>\n",
              "      <td>1</td>\n",
              "      <td>0.070</td>\n",
              "      <td>0.144</td>\n",
              "      <td>-0.6249</td>\n",
              "    </tr>\n",
              "  </tbody>\n",
              "</table>\n",
              "</div>"
            ],
            "text/plain": [
              "    n_tokens_title  ...   title_sentiment_polarity\n",
              "1                6  ...                     0.0000\n",
              "2               12  ...                     0.0000\n",
              "3               14  ...                     0.0000\n",
              "4               15  ...                     0.0000\n",
              "6               12  ...                    -0.6249\n",
              "\n",
              "[5 rows x 16 columns]"
            ]
          },
          "metadata": {
            "tags": []
          },
          "execution_count": 31
        }
      ]
    },
    {
      "cell_type": "code",
      "metadata": {
        "id": "CW3U6lq_z4c1",
        "colab_type": "code",
        "colab": {
          "base_uri": "https://localhost:8080/",
          "height": 141
        },
        "outputId": "d861a489-cea6-4945-f400-8e04a35386a6"
      },
      "source": [
        "x_test.columns"
      ],
      "execution_count": 32,
      "outputs": [
        {
          "output_type": "execute_result",
          "data": {
            "text/plain": [
              "Index([' n_tokens_title', ' n_tokens_content', ' n_unique_tokens',\n",
              "       ' n_non_stop_words', ' n_non_stop_unique_tokens', ' weekday_is_monday',\n",
              "       ' weekday_is_tuesday', ' weekday_is_wednesday', ' weekday_is_thursday',\n",
              "       ' weekday_is_friday', ' weekday_is_saturday', ' weekday_is_sunday',\n",
              "       ' is_weekend', ' avg_positive_polarity', ' avg_negative_polarity',\n",
              "       ' title_sentiment_polarity'],\n",
              "      dtype='object')"
            ]
          },
          "metadata": {
            "tags": []
          },
          "execution_count": 32
        }
      ]
    },
    {
      "cell_type": "code",
      "metadata": {
        "id": "HzF8Ku3Y1Edm",
        "colab_type": "code",
        "colab": {}
      },
      "source": [
        "x_test = x_test.astype(float)"
      ],
      "execution_count": 0,
      "outputs": []
    },
    {
      "cell_type": "markdown",
      "metadata": {
        "id": "Jp7NZa6zpUEu",
        "colab_type": "text"
      },
      "source": [
        "### Model Used\n",
        "*  RandomForest Regressor"
      ]
    },
    {
      "cell_type": "code",
      "metadata": {
        "id": "7NXIb4OP1hiY",
        "colab_type": "code",
        "colab": {}
      },
      "source": [
        "from sklearn.model_selection import train_test_split\n",
        "x_train,x_validate,y_train,y_validate = train_test_split(x,y,test_size=0.3)"
      ],
      "execution_count": 0,
      "outputs": []
    },
    {
      "cell_type": "code",
      "metadata": {
        "id": "MLbcAU3HD70h",
        "colab_type": "code",
        "colab": {
          "base_uri": "https://localhost:8080/",
          "height": 141
        },
        "outputId": "ed354a50-7937-4fcd-debf-8b0253baa986"
      },
      "source": [
        "from sklearn.ensemble import RandomForestRegressor\n",
        "clf = RandomForestRegressor(random_state=42)\n",
        "clf.fit(x_train, y_train)"
      ],
      "execution_count": 37,
      "outputs": [
        {
          "output_type": "execute_result",
          "data": {
            "text/plain": [
              "RandomForestRegressor(bootstrap=True, ccp_alpha=0.0, criterion='mse',\n",
              "                      max_depth=None, max_features='auto', max_leaf_nodes=None,\n",
              "                      max_samples=None, min_impurity_decrease=0.0,\n",
              "                      min_impurity_split=None, min_samples_leaf=1,\n",
              "                      min_samples_split=2, min_weight_fraction_leaf=0.0,\n",
              "                      n_estimators=100, n_jobs=None, oob_score=False,\n",
              "                      random_state=42, verbose=0, warm_start=False)"
            ]
          },
          "metadata": {
            "tags": []
          },
          "execution_count": 37
        }
      ]
    },
    {
      "cell_type": "code",
      "metadata": {
        "id": "qUdzZ3g-EUhh",
        "colab_type": "code",
        "colab": {}
      },
      "source": [
        "pred_validate = clf.predict(x_validate)"
      ],
      "execution_count": 0,
      "outputs": []
    },
    {
      "cell_type": "code",
      "metadata": {
        "id": "Jmi9bsyvrnWl",
        "colab_type": "code",
        "colab": {}
      },
      "source": [
        "pred_validate = pd.DataFrame(clf.predict(x_validate),list(y_validate))"
      ],
      "execution_count": 0,
      "outputs": []
    },
    {
      "cell_type": "code",
      "metadata": {
        "id": "DenQB3s-FsYW",
        "colab_type": "code",
        "colab": {
          "base_uri": "https://localhost:8080/",
          "height": 194
        },
        "outputId": "1e5b19fb-d139-4563-d40e-9c0d51c14c53"
      },
      "source": [
        "pred_validate.reset_index(level=0, inplace=True)\n",
        "pred_validate_df = pred_validate.rename(index=str, columns={\"index\": \"Actual shares\", 0: \"Predicted shares\"})\n",
        "pred_validate_df.head()"
      ],
      "execution_count": 49,
      "outputs": [
        {
          "output_type": "execute_result",
          "data": {
            "text/html": [
              "<div>\n",
              "<style scoped>\n",
              "    .dataframe tbody tr th:only-of-type {\n",
              "        vertical-align: middle;\n",
              "    }\n",
              "\n",
              "    .dataframe tbody tr th {\n",
              "        vertical-align: top;\n",
              "    }\n",
              "\n",
              "    .dataframe thead th {\n",
              "        text-align: right;\n",
              "    }\n",
              "</style>\n",
              "<table border=\"1\" class=\"dataframe\">\n",
              "  <thead>\n",
              "    <tr style=\"text-align: right;\">\n",
              "      <th></th>\n",
              "      <th>level_0</th>\n",
              "      <th>Actual shares</th>\n",
              "      <th>Predicted shares</th>\n",
              "    </tr>\n",
              "  </thead>\n",
              "  <tbody>\n",
              "    <tr>\n",
              "      <th>0</th>\n",
              "      <td>0</td>\n",
              "      <td>13200</td>\n",
              "      <td>18415.35</td>\n",
              "    </tr>\n",
              "    <tr>\n",
              "      <th>1</th>\n",
              "      <td>1</td>\n",
              "      <td>306100</td>\n",
              "      <td>1617.67</td>\n",
              "    </tr>\n",
              "    <tr>\n",
              "      <th>2</th>\n",
              "      <td>2</td>\n",
              "      <td>1300</td>\n",
              "      <td>3737.27</td>\n",
              "    </tr>\n",
              "    <tr>\n",
              "      <th>3</th>\n",
              "      <td>3</td>\n",
              "      <td>478</td>\n",
              "      <td>1550.58</td>\n",
              "    </tr>\n",
              "    <tr>\n",
              "      <th>4</th>\n",
              "      <td>4</td>\n",
              "      <td>737</td>\n",
              "      <td>1019.34</td>\n",
              "    </tr>\n",
              "  </tbody>\n",
              "</table>\n",
              "</div>"
            ],
            "text/plain": [
              "   level_0  Actual shares  Predicted shares\n",
              "0        0          13200          18415.35\n",
              "1        1         306100           1617.67\n",
              "2        2           1300           3737.27\n",
              "3        3            478           1550.58\n",
              "4        4            737           1019.34"
            ]
          },
          "metadata": {
            "tags": []
          },
          "execution_count": 49
        }
      ]
    },
    {
      "cell_type": "code",
      "metadata": {
        "id": "yxIl9bOeGgB2",
        "colab_type": "code",
        "colab": {
          "base_uri": "https://localhost:8080/",
          "height": 35
        },
        "outputId": "3599f270-e83f-45d3-c4c3-4c255f17b0fd"
      },
      "source": [
        "from sklearn.metrics import mean_squared_error\n",
        "mean_squared_error(pred_validate,y_validate)"
      ],
      "execution_count": 52,
      "outputs": [
        {
          "output_type": "execute_result",
          "data": {
            "text/plain": [
              "101599236.94032049"
            ]
          },
          "metadata": {
            "tags": []
          },
          "execution_count": 52
        }
      ]
    },
    {
      "cell_type": "code",
      "metadata": {
        "id": "C7OTsEO0HlAD",
        "colab_type": "code",
        "colab": {}
      },
      "source": [
        "pred_test = clf.predict(x_test)"
      ],
      "execution_count": 0,
      "outputs": []
    },
    {
      "cell_type": "markdown",
      "metadata": {
        "id": "doTLlf9Tp4_8",
        "colab_type": "text"
      },
      "source": [
        "### Generated Predictions depicting the Virality of the *News*"
      ]
    },
    {
      "cell_type": "code",
      "metadata": {
        "id": "If5G5s3EHygF",
        "colab_type": "code",
        "colab": {
          "base_uri": "https://localhost:8080/",
          "height": 399
        },
        "outputId": "2cdb147f-4328-432e-d113-8dfb5fd0c83d"
      },
      "source": [
        "pred_test=pd.DataFrame(clf.predict(x_test),new_test[' text'])\n",
        "pred_test.reset_index(level=0, inplace=True)\n",
        "pred_test = pred_test.rename(index=str, columns={\"index\": \"News\", 0: \"Virality\"})\n",
        "pred_test"
      ],
      "execution_count": 54,
      "outputs": [
        {
          "output_type": "execute_result",
          "data": {
            "text/html": [
              "<div>\n",
              "<style scoped>\n",
              "    .dataframe tbody tr th:only-of-type {\n",
              "        vertical-align: middle;\n",
              "    }\n",
              "\n",
              "    .dataframe tbody tr th {\n",
              "        vertical-align: top;\n",
              "    }\n",
              "\n",
              "    .dataframe thead th {\n",
              "        text-align: right;\n",
              "    }\n",
              "</style>\n",
              "<table border=\"1\" class=\"dataframe\">\n",
              "  <thead>\n",
              "    <tr style=\"text-align: right;\">\n",
              "      <th></th>\n",
              "      <th>text</th>\n",
              "      <th>Virality</th>\n",
              "    </tr>\n",
              "  </thead>\n",
              "  <tbody>\n",
              "    <tr>\n",
              "      <th>0</th>\n",
              "      <td>in a muchawaited largescale reshuffle in the c...</td>\n",
              "      <td>8898.490000</td>\n",
              "    </tr>\n",
              "    <tr>\n",
              "      <th>1</th>\n",
              "      <td>ahead of prime minister narendra modi’s monday...</td>\n",
              "      <td>10579.426667</td>\n",
              "    </tr>\n",
              "    <tr>\n",
              "      <th>2</th>\n",
              "      <td>maharashtra home minister anil deshmukh on sun...</td>\n",
              "      <td>10473.890000</td>\n",
              "    </tr>\n",
              "    <tr>\n",
              "      <th>3</th>\n",
              "      <td>prime minister narendra modi will interact wit...</td>\n",
              "      <td>6826.530000</td>\n",
              "    </tr>\n",
              "    <tr>\n",
              "      <th>4</th>\n",
              "      <td>with around 300 terrorists reported to be wait...</td>\n",
              "      <td>8069.530000</td>\n",
              "    </tr>\n",
              "    <tr>\n",
              "      <th>...</th>\n",
              "      <td>...</td>\n",
              "      <td>...</td>\n",
              "    </tr>\n",
              "    <tr>\n",
              "      <th>372</th>\n",
              "      <td>prime minister narendra modi on monday told th...</td>\n",
              "      <td>10619.774332</td>\n",
              "    </tr>\n",
              "    <tr>\n",
              "      <th>373</th>\n",
              "      <td>the all india transporters welfare association...</td>\n",
              "      <td>11063.340000</td>\n",
              "    </tr>\n",
              "    <tr>\n",
              "      <th>374</th>\n",
              "      <td>the congress on monday demanded an immediate i...</td>\n",
              "      <td>10284.870000</td>\n",
              "    </tr>\n",
              "    <tr>\n",
              "      <th>375</th>\n",
              "      <td>a notice was served on bollywood singer kanika...</td>\n",
              "      <td>9266.785184</td>\n",
              "    </tr>\n",
              "    <tr>\n",
              "      <th>376</th>\n",
              "      <td>some members of the indian revenue service irs...</td>\n",
              "      <td>8820.650000</td>\n",
              "    </tr>\n",
              "  </tbody>\n",
              "</table>\n",
              "<p>377 rows × 2 columns</p>\n",
              "</div>"
            ],
            "text/plain": [
              "                                                  text      Virality\n",
              "0    in a muchawaited largescale reshuffle in the c...   8898.490000\n",
              "1    ahead of prime minister narendra modi’s monday...  10579.426667\n",
              "2    maharashtra home minister anil deshmukh on sun...  10473.890000\n",
              "3    prime minister narendra modi will interact wit...   6826.530000\n",
              "4    with around 300 terrorists reported to be wait...   8069.530000\n",
              "..                                                 ...           ...\n",
              "372  prime minister narendra modi on monday told th...  10619.774332\n",
              "373  the all india transporters welfare association...  11063.340000\n",
              "374  the congress on monday demanded an immediate i...  10284.870000\n",
              "375  a notice was served on bollywood singer kanika...   9266.785184\n",
              "376  some members of the indian revenue service irs...   8820.650000\n",
              "\n",
              "[377 rows x 2 columns]"
            ]
          },
          "metadata": {
            "tags": []
          },
          "execution_count": 54
        }
      ]
    },
    {
      "cell_type": "code",
      "metadata": {
        "id": "spyl6OFYIRMR",
        "colab_type": "code",
        "colab": {}
      },
      "source": [
        ""
      ],
      "execution_count": 0,
      "outputs": []
    }
  ]
}